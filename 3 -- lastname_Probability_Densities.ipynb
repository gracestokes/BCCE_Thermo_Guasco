{
 "cells": [
  {
   "cell_type": "markdown",
   "metadata": {
    "deletable": true,
    "editable": true
   },
   "source": [
    "### <font face=\"georgia\"><p style = 'text-align: center;'> Computational Guided Inquiry for PChem (Neshyba & Guasco, 2017)</p>\n",
    "\n",
    "## <font face=\"georgia\"><p style = 'text-align: center;'>  Probability Densities</p>\n",
    "\n",
    "<font face=\"georgia\">**OBJECTIVES**: \n",
    "\n",
    "1. Use Python graphics to visualize probability densities.\n",
    "2. Learn how to implement the trapezoid rule to numerically integrate functions in Python.\n"
   ]
  },
  {
   "cell_type": "markdown",
   "metadata": {
    "deletable": true,
    "editable": true
   },
   "source": [
    "<font face=\"georgia\">**What to do in preparation for this activity:** \n",
    "\n",
    "1. Read the Introduction below.\n",
    "<br>\n",
    "2. For your prelab, have ready to turn a single piece of paper with the following information:  \n",
    "• Equations 1, 2, 4, 5, and 11 from the Introduction labeled to indicate what each equation is.  \n",
    "• Value of the gas constant (*R*) and molar mass (*M*) of a gas atom or molecule of your choice in the SI unit system.  \n",
    "• A description of the trapezoidal rule in your own words. A pictoral representation might be useful.<br>\n",
    "• Integrations of the functions $f(x) = 3x, 3x^2,$ and $3x^3$ with the limits of integration -5 to 5.\n",
    "3. Prepare your lab notebook (the physical notebook) with a table of contents entry and a starting page for this activity. Duplicate the above prelab information there. Don't forget to bring the notebook with you to class."
   ]
  },
  {
   "cell_type": "markdown",
   "metadata": {
    "deletable": true,
    "editable": true
   },
   "source": [
    "## <font face = \"georgia\">Introduction\n",
    "\n",
    "<font face = \"georgia\"> A probability density function describes the relative likelihood of a continuous random variable having a given value.  For example, gas molecules move over a continuous range of velocities and we can use the Boltzmann density function, $f_B$, to describe the x, y, or z-component of the velocity ($v_x$, $v_y$, or $v_z$).  In addition to a velocity component, this function also depends on the temperature (_T_) and the molar mass of the molecule (_M_); we say it is <em>parameterized</em> by these quantitites.  Similarly, the Maxwell density function, $f_M$, is a function of the speed (_v_), and is also parameterized by _T_ and _M_.  Analytically, we write the Boltzmann density function as,\n",
    "\n",
    "<p style='text-align: right;'>\n",
    "$ f_B(v_x) = N_Be^{-{\\scriptsize(\\dfrac{M}{2RT}}){\\Large v_x^2}} $\n",
    "$\\qquad\\qquad\\qquad\\qquad\\qquad\\qquad\\qquad\\qquad\\qquad  (1) $\n",
    "</p>\n",
    "\n",
    "where we have written it as a function of the x-direction velocity component, $v_x$ (though the y- and z-forms look very similar).  The quantity $N_B$ is a normalization constant,\n",
    "\n",
    "<p style='text-align: right;'>\n",
    "$ N_B = {\\small{(\\dfrac{M}{2 \\pi RT}})}^{1/2} $\n",
    "$\\qquad\\qquad\\qquad\\qquad\\qquad\\qquad\\qquad\\qquad\\qquad  (2) $\n",
    "</p>\n",
    "\n",
    "which ensures that the total area under $f_B$ is 1, i.e.,\n",
    "\n",
    "<p style='text-align: right;'>\n",
    "$ \\int\\limits_{-\\infty}^\\infty f_B(v_x)dv_x = 1 $\n",
    "$\\qquad\\qquad\\qquad\\qquad\\qquad\\qquad\\qquad\\qquad\\qquad  (3) $\n",
    "</p>\n",
    "\n"
   ]
  },
  {
   "cell_type": "markdown",
   "metadata": {
    "deletable": true,
    "editable": true
   },
   "source": [
    "<font face = \"georgia\"> Equation 3 is sometimes called the <em>normalization condition</em>.  You can think of normalization as indicating that there is a 100% probability that the velocity component in the x-direction will be somewhere between -$\\infty$ and +$\\infty$.\n",
    "\n",
    "Similarly, the Maxwell density function is written\n",
    "\n",
    "<p style='text-align: right;'>\n",
    "$ f_M(v) = N_Mv^2e^{-{\\scriptsize(\\dfrac{M}{2RT}}){\\Large v^2}} $\n",
    "$\\qquad\\qquad\\qquad\\qquad\\qquad\\qquad\\qquad\\qquad\\qquad  (4) $\n",
    "</p>\n",
    "\n",
    "with a normalization constant of\n",
    "\n",
    "<p style='text-align: right;'>\n",
    "$ N_M = 4 \\pi {\\small{(\\dfrac{M}{2 \\pi RT}})}^{3/2} $\n",
    "$\\qquad\\qquad\\qquad\\qquad\\qquad\\qquad\\qquad\\qquad\\qquad  (5) $\n",
    "</p>\n",
    "\n",
    "The normalization condition for speed is that it must lie somewhere between _zero_ and +$\\infty$,\n",
    "\n",
    "<p style='text-align: right;'>\n",
    "$ \\int\\limits_0^\\infty f_M(v)dv = 1 $\n",
    "$\\qquad\\qquad\\qquad\\qquad\\qquad\\qquad\\qquad\\qquad\\qquad  (6) $\n",
    "</p>\n",
    "\n"
   ]
  },
  {
   "cell_type": "markdown",
   "metadata": {
    "deletable": true,
    "editable": true
   },
   "source": [
    "<font face = \"georgia\"> For a given molar mass, we can think of these functions as surfaces in two dimensions, (1) the velocity component or speed and (2) the temperature.  A shorthand for these surfaces would be $f_B(v_x,T)$ or $f_M(v,T)$.  What do such surfaces look like?  One is shown in the figure below.  Such figures are useful for developing an intuition about how molecules move; for example, it is evident from the figure that molecules exhibit a broader distribution of velocities at higher temperature.\n",
    "\n",
    "<p style ='text-align: left;'>\n",
    "<img src=\"http://webspace.pugetsound.edu/facultypages/nesh/Notebook/fbsurface.png\" height=\"500\" width=\"500\"/>\n",
    "</p>\n",
    "<p style = 'text-align: left;'>\n",
    "<strong>Figure 1</strong>. Probability density as a function of velocity and temperature.\n",
    "</p>\n",
    "\n",
    "Probability densities also have important quantitative purposes.  One is to calculate the _probability_ of finding a gas molecule having a particular range of speeds.  This is done by integrating the probability density over the desired range.  If you want to know how likely it is to find a molecule with an x-component velocity ($v_x$) between 300 and 400 m/s, for example, you would evaluate the definite integral\n",
    "\n",
    "<p style='text-align: right;'>\n",
    "$ \\int\\limits_{300}^{400} f_B(v_x)dv_x = ? $\n",
    "$\\qquad\\qquad\\qquad\\qquad\\qquad\\qquad\\qquad\\qquad\\qquad  (7) $\n",
    "</p>\n",
    "\n"
   ]
  },
  {
   "cell_type": "markdown",
   "metadata": {
    "deletable": true,
    "editable": true
   },
   "source": [
    "<font face = \"georgia\">Another quantitative use of probability densities is to calculate averages, or _moments_, which in thermodynamics are denoted using the notation $\\langle ...\\rangle$.  For example, the _first moment_ of the x-direction velocity component is calculated using the Boltzmann density function\n",
    "\n",
    "<p style='text-align: right;'>\n",
    "$ \\langle v_x \\rangle = \\int\\limits_{-\\infty}^{\\infty} v_xf_B(v_x)dv_x  $\n",
    "$\\qquad\\qquad\\qquad\\qquad\\qquad\\qquad\\qquad\\qquad\\qquad  (8) $\n",
    "</p>\n",
    "\n",
    "As can be seen from Eq. 8, we calculate the first moment of the x-direction velocity component by integrating the product of the x-direction velocity component ($v_x$) and the Boltzmann density function ($f_B$) from -$\\infty$ to +$\\infty$.  Higher-order moments are calculated similarly, e.,g., the _second moment_ is found by integrating the product of the square of the x-component of the velocity ($v_x^2$) and the Boltzmann density function from -$\\infty$ to +$\\infty$\n",
    "\n",
    "<p style='text-align: right;'>\n",
    "$ \\langle v_x^2 \\rangle = \\int\\limits_{-\\infty}^{\\infty} v_x^2 f_B(v_x)dv_x  $\n",
    "$\\qquad\\qquad\\qquad\\qquad\\qquad\\qquad\\qquad\\qquad\\qquad  (9) $\n",
    "</p>\n",
    "\n"
   ]
  },
  {
   "cell_type": "markdown",
   "metadata": {
    "deletable": true,
    "editable": true
   },
   "source": [
    "<font face = \"georgia\">If the quantity you are interested in averaging depends on the speed (as opposed to the velocity component), then you would use the Maxwell density function.  For example, the <em>first moment of the speed</em> is given by\n",
    "\n",
    "<p style='text-align: right;'>\n",
    "$ \\langle v \\rangle = \\int\\limits_0^{\\infty} vf_M(v)dv  $\n",
    "$\\qquad\\qquad\\qquad\\qquad\\qquad\\qquad\\qquad\\qquad\\qquad  (10) $\n",
    "</p>\n",
    "\n",
    "It then follows that higher-order moments would be written\n",
    "\n",
    "<p style='text-align: right;'>\n",
    "$ \\langle v^n \\rangle = \\int\\limits_0^{\\infty} v^nf_M(v)dv  $\n",
    "$\\qquad\\qquad\\qquad\\qquad\\qquad\\qquad\\qquad\\qquad\\qquad  (11) $\n",
    "</p>\n",
    "\n"
   ]
  },
  {
   "cell_type": "markdown",
   "metadata": {
    "deletable": true,
    "editable": true
   },
   "source": [
    "<font face = \"georgia\">It turns out that various moments of the speed, when taken to appropriate powers, have special symbols and names: $\\bar c = \\langle v \\rangle$ is just the average speed, $c = \\langle v^2 \\rangle ^\\frac{1}{2}$ is called the root-mean-squared speed, $\\tilde c = \\langle v^3 \\rangle ^\\frac{1}{3}$ is called the cubed-root-mean-cubed speed.\n",
    "\n",
    "Some of the integrals written above can be evaluated analytically, which means a closed-form expression is available.  There are integral tables for that.  Other integrals can be seen, by inspecting the integrands (the function being integrated), to be equal to zero!  Other (in fact most!) integrals have no analytical solution.  But _all_ the integrals discussed so far can be evaluated numerically, with the help of a computer.  The main goal of this activity is to show you how to do that; on the way, you will pick up some intuition about the temperature dependence of density functions.\n",
    "\n",
    "\n"
   ]
  },
  {
   "cell_type": "markdown",
   "metadata": {
    "deletable": true,
    "editable": true
   },
   "source": [
    "## <font face = \"georgia\">In-class activities  \n",
    "<font face = \"georgia\">Import the various libraries."
   ]
  },
  {
   "cell_type": "code",
   "execution_count": null,
   "metadata": {
    "collapsed": true,
    "deletable": true,
    "editable": true
   },
   "outputs": [],
   "source": [
    "import numpy as np\n",
    "import matplotlib.pyplot as plt\n",
    "from mpl_toolkits.mplot3d import axes3d\n",
    "%matplotlib notebook"
   ]
  },
  {
   "cell_type": "markdown",
   "metadata": {
    "deletable": true,
    "editable": true
   },
   "source": [
    "<font face = \"georgia\">The first objective is to get Python to display the Boltzmann probability density function, $f_B(v_x,T)$, of the gas you chose as a thermodynamic surface. **You will want to set your ranges as -2000 to 2000 m/s for $v_x$ and 100 to 1000 K for _T_.** Modify the cell below appropriately to do this."
   ]
  },
  {
   "cell_type": "code",
   "execution_count": null,
   "metadata": {
    "collapsed": false,
    "deletable": true,
    "editable": true
   },
   "outputs": [],
   "source": [
    "# This part explores the temperature dependence of fb(v) \n",
    "R = 8.314\n",
    "n = 1\n",
    "M = 0.028\n",
    "\n",
    "# Calculate a grid of velocities and temperatures\n",
    "vx = np.linspace(-150,150)\n",
    "T = np.linspace(400,900)\n",
    "vxgrid,Tgrid = np.meshgrid(vx,T)\n",
    "\n",
    "# Get the probability density for every point on the grid\n",
    "D = M/(2*R*Tgrid)\n",
    "NB = np.sqrt(M/(2*np.pi*R*Tgrid))\n",
    "fBgrid= NB * np.exp(-D*vxgrid**2)\n"
   ]
  },
  {
   "cell_type": "markdown",
   "metadata": {
    "deletable": true,
    "editable": true
   },
   "source": [
    "<font face = \"georgia\">Now we're ready to graph it."
   ]
  },
  {
   "cell_type": "code",
   "execution_count": null,
   "metadata": {
    "collapsed": false,
    "deletable": true,
    "editable": true
   },
   "outputs": [],
   "source": [
    "# Set up a figure for 3d graphics\n",
    "ax = plt.figure().gca(projection='3d')\n",
    "\n",
    "# Make the mesh plot; the \"stride\" parameters improve the appearance\n",
    "ax.plot_surface(vxgrid, Tgrid, fBgrid, rstride=2,cstride=2) \n",
    "ax.set_xlabel('vx (m/s)') # Label axes\n",
    "ax.set_ylabel('T (K)')\n",
    "ax.set_zlabel('fB (s/m)')\n"
   ]
  },
  {
   "cell_type": "markdown",
   "metadata": {
    "deletable": true,
    "editable": true
   },
   "source": [
    "<font face = \"georgia\">You might notice that the tick labels on your z-axis are not very visually appealing.  **In order to make your figure a bit more aesthetically pleasing, multiply $f_B$ by 1000 in the cell above (there are a couple of places you can do this).  You'll need to modify your axis label to account for this change.**"
   ]
  },
  {
   "cell_type": "markdown",
   "metadata": {
    "deletable": true,
    "editable": true
   },
   "source": [
    "#### <font face = \"georgia\">Pause for Analysis #1: The important thing to look at here is how $f_B (v_x)\\space$ changes as a function of temperature. In your notebook, on a single graph make sketches of $f_B (v_x)\\space$ vs. $v_x$ for a low-temperature and a high-temperature case. Your sketches should be clearly labeled and qualitatively correct in terms of the relative height and width of these two functions. "
   ]
  },
  {
   "cell_type": "markdown",
   "metadata": {},
   "source": [
    "#### <font face = \"georgia\">Pause for Analysis #2:Imagine you have two vessels, one at a low-temperature and one at a high-temperature, filled with the same amount of your gas.  In which vessel would you expect to find more molecues moving with the same x-component of the velocity?  Which vessel would you expect to contain the molecules moving with the greatest velocity in the x-direction? Write a couple sentences explaining your answers."
   ]
  },
  {
   "cell_type": "markdown",
   "metadata": {
    "deletable": true,
    "editable": true
   },
   "source": [
    "<font face = \"georgia\">Your next task is to make a similar two-dimensional surface for the _Maxwell_ probability distribution function, $f_M(v,T)$. **As you did before, modify the cell below to set the temperature range from 100 to 1000 K. The Maxwell distribution describes speeds, so your _v_ values should go from 0 to 2000 m/s.** As before, you should multiply $f_M$ by 1000 and add appropriate axis labels to your graph."
   ]
  },
  {
   "cell_type": "code",
   "execution_count": null,
   "metadata": {
    "collapsed": false,
    "deletable": true,
    "editable": true
   },
   "outputs": [],
   "source": [
    "# An array of speeds and temperatures\n",
    "v = np.linspace(0,150)\n",
    "T = np.linspace(400,900)\n",
    "vgrid,Tgrid = np.meshgrid(v,T)\n",
    "\n",
    "# Get the probability density for every point on the grid\n",
    "D = M/(2*R*Tgrid)\n",
    "NM = np.sqrt(2)*M**1.5*R**(-1.5)*Tgrid**(-1.5)*np.pi**(-0.5)\n",
    "fMgrid= NM*vgrid**2*np.exp(-D*vgrid**2)\n"
   ]
  },
  {
   "cell_type": "markdown",
   "metadata": {
    "deletable": true,
    "editable": true
   },
   "source": [
    "<font face = \"georgia\">Make a 3d mesh plot of this too."
   ]
  },
  {
   "cell_type": "code",
   "execution_count": null,
   "metadata": {
    "collapsed": true,
    "deletable": true,
    "editable": true
   },
   "outputs": [],
   "source": [
    "# Set up figure #2 for 3d graphics of the Maxwell distribution function\n",
    "\n",
    "# Make the mesh plot\n"
   ]
  },
  {
   "cell_type": "markdown",
   "metadata": {
    "deletable": true,
    "editable": true
   },
   "source": [
    "#### <font face = \"georgia\">Pause for Analysis #3: You should analyze $f_M(v)\\space$ similarly to how you analyzed $f_B(v_x)\\space$, i.e., make a a sketch of $f_M(v)\\space$ vs. $v$ at low temperature and another at high temperature, in your computational lab notebook.  Once again, make sure that your plots are clearly labeled and qualitatively correct. \n",
    "\n",
    "#### <font face = \"georgia\">Pause for Analysis #4: When you plotted the Boltzmann distribution of velocities $v_x$ ranged from -2000 to 2000 m/s, but when you plotted the Maxwell distribution of speeds $v$ ranged from 0 to 2000 m/s. What is the reason for the different ranges?"
   ]
  },
  {
   "cell_type": "markdown",
   "metadata": {},
   "source": [
    "### <font face = 'georgia'>A little python interlude..."
   ]
  },
  {
   "cell_type": "markdown",
   "metadata": {},
   "source": [
    "<font face = \"georgia\">In a couple cells down you will be calculating the first few moments of the x-direction velocity, which requires integration (as shown in Eqs. 8 and 9). Python allows you to integrate a function numerically using the trapezoidal rule as part the numpy package. The syntax for the trapezoidal rule is np.trapz(integrand, variable_of_integration). Use the cell below to calculate the integrals $ \\int\\limits_{-5}^{5} 3xdx$, $ \\int\\limits_{-5}^{5} 3x^2dx$, and $ \\int\\limits_{-5}^{5} 3x^3dx$ using the trapezoid rule. The code below is setup to do the first integral, but you will need to finish the code for the next two. **After you complete the cell and execute the code, verify that your values match the values you calculated as part of your pre-activity assignment.** If they don't, ask your instructor for assistance."
   ]
  },
  {
   "cell_type": "code",
   "execution_count": null,
   "metadata": {
    "collapsed": false
   },
   "outputs": [],
   "source": [
    "#Define the variable x and have it range from -5 to 5\n",
    "x = np.linspace(-5,5)\n",
    "\n",
    "#Calculate the integral of 3x dx from -5 to 5 and display the result\n",
    "print(np.trapz(3*x,x))\n",
    "\n",
    "#Calculate the integral of 3x**2 dx from -5 to 5 and display the result\n",
    "\n",
    "\n",
    "#Calculate the integral of 3x**3 dx from -5 to 5 and display the result\n",
    "\n"
   ]
  },
  {
   "cell_type": "markdown",
   "metadata": {
    "deletable": true,
    "editable": true
   },
   "source": [
    "<font face = \"georgia\">Now that you have explored how the Boltzmann and Maxwell distribution functions vary with temperature and the implementation of the trapezoidal rule in Python, it is time to take a closer look at the first few moments of the x-direction velocity component. Starting with the first moment, calculate and graph the integrand $v_x^nf_B(v_x)$ (see Eq. 8) at 300 K, and integrate according to the trapezoidal rule.  The code below is setup to do this for the first two moments, but you will need to finish the code for the last one.  "
   ]
  },
  {
   "cell_type": "code",
   "execution_count": null,
   "metadata": {
    "collapsed": false,
    "deletable": true,
    "editable": true
   },
   "outputs": [],
   "source": [
    "# Moments for Boltzmann\n",
    "\n",
    "# Lay out an array of velocities and their probability densities at a single temperature\n",
    "T = 300\n",
    "D = M/(2*R*T)\n",
    "NB = np.sqrt(M/(2*np.pi*R*T))\n",
    "vx = np.linspace(-2000,2000)\n",
    "fB = NB * np.exp(-D*vx**2)\n",
    "\n",
    "#Plot the integrand for the first moment, and calculate the moment using the trapezoidal rule\n",
    "plt.figure() # Set up a graphics window \n",
    "plt.plot(vx,fB*vx) # Plot the integrand\n",
    "plt.grid('on')\n",
    "plt.xlabel('vx (m/s)') # Label the x axis\n",
    "plt.ylabel('rho * vx') # Label the y axis\n",
    "print ('the mean of vx is', np.trapz(fB*vx,vx))\n",
    "\n",
    "\n",
    "#Do the same for the second moment and its square root\n",
    "plt.figure()\n",
    "plt.plot(vx,fB*vx**2)\n",
    "plt.grid('on')\n",
    "plt.xlabel('vx (m/s)') # Label the x axis\n",
    "plt.ylabel('rho * v_x^2') # Label the y axis\n",
    "print ('the mean of vx^2 is', np.trapz(fB*vx**2,vx))\n",
    "print ('the root-mean-square of vx^2 is', (np.trapz(fB*vx**2,vx))**.5)\n",
    "\n",
    "#Do the same for the third moment and its cubed root\n",
    "\n"
   ]
  },
  {
   "cell_type": "markdown",
   "metadata": {},
   "source": [
    "<font face = \"georgia\">You probably noticed that your graphs were not very smooth. This is because there are only 50 data points (remember, np.linspace gives 50 points by default if the number of points is not specified), which is not very many when the plot has an x-axis range of 4000 points. **You should make your graphs look a little nicer by increasing the number of $v_x$ values to something like 250.** Remember, the syntax for the linspace function is np.linspace(starting value, ending value, number of points)."
   ]
  },
  {
   "cell_type": "markdown",
   "metadata": {
    "deletable": true,
    "editable": true
   },
   "source": [
    "#### <font face = \"georgia\">Pause for Analysis #5: Sketch the integrands in your notebook and record the values of $\\langle v_x \\rangle , \\langle v_x^2 \\rangle , and \\langle v_x^3 \\rangle $ that you calculated. Articulate a _mathematical_ reason and a _physical_ reason for any mean values that are close to zero.   \n",
    "\n",
    "#### <font face = \"georgia\">Using this reasoning, make a prediction about the fourth moment (i.e., sketch what you imagine the integrand of $\\langle v_x^4 \\rangle$ will look like, and say whether you think the fourth moment will be zero or not)."
   ]
  },
  {
   "cell_type": "markdown",
   "metadata": {
    "deletable": true,
    "editable": true
   },
   "source": [
    "<font face = \"georgia\">Now you'll do a similar thing with the three moments of the _speed_.  Starting with the first moment, calculate and graph the integrands $v^nf_M(v)$ (see Eq. 10) at 300 K, and the integrals (which are the moments). "
   ]
  },
  {
   "cell_type": "code",
   "execution_count": null,
   "metadata": {
    "collapsed": false,
    "deletable": true,
    "editable": true
   },
   "outputs": [],
   "source": [
    "# Moments for Maxwell\n",
    "\n",
    "# Lay out an array of velocities and their probability densities at a single temperature\n",
    "T = 300\n",
    "D = M/(2*R*T)\n",
    "NM = np.sqrt(2)*M**1.5*R**(-1.5)*T**(-1.5)*np.pi**(-0.5)\n",
    "v = np.linspace(0,2000)\n",
    "fM = NM *v**2 * np.exp(-D*v**2)\n",
    "\n",
    "#Plot the integrand for the first moment, and calculate the moment (called \"c-bar\") using the trapezoidal rule\n",
    "\n",
    "#Do the same for the second moment and its square root (called \"c\")\n",
    "\n",
    "#Do the same for the third moment and its cubed root (called \"c-tilde\")\n",
    "\n"
   ]
  },
  {
   "cell_type": "markdown",
   "metadata": {
    "deletable": true,
    "editable": true
   },
   "source": [
    "#### <font face = \"georgia\">Pause for Analysis #6: You will notice that there is a trend in the values of $\\bar c$, $c$, and $\\tilde c$.  Describe it. Sketch a 2-D plot of $f_M(v)$ (see Fig. 2) and label $c^*$ (the most probable speed), $\\bar c$, $c$, and $\\tilde c$. How does the mean speen ($\\bar c$) compare to the most probable speed ($c^*$)? Explain."
   ]
  },
  {
   "cell_type": "markdown",
   "metadata": {
    "deletable": true,
    "editable": true
   },
   "source": [
    "## <font face=\"georgia\">Post-class activities  \n",
    "<font face = \"georgia\">In your lab notebook:\n",
    "\n",
    "1. With a series of sketches (four in total), show how the Boltzmann and Maxwell probability density functions change with temperature and molecular mass.<br>\n",
    "2. Explain what normalization constants in probability density functions are for. \n",
    "3. With a sketch, show what the trapezoidal rule does. State how you implement the trapezoidal rule in Python.\n",
    "4. Describe the difference between *numerical* and *analytical* methods for evaluating integrals, with examples from probability distributions."
   ]
  },
  {
   "cell_type": "markdown",
   "metadata": {
    "deletable": true,
    "editable": true
   },
   "source": [
    "## <font face=\"georgia\">Due by the following class meeting \n",
    "\n",
    "<font face = \"georgia\">\n",
    "1. Your lab notebook, which contains:<br>\n",
    "• Any sketches of graphs you were instructed to include.<br>\n",
    "• Your responses to the \"Pause for Analysis\" items.<br>\n",
    "• The post-class activities. \n",
    "2. Your Python notebook (the .ipynb file) placed in your Dropbox folder. I will look at your file for evidence of mastery of the computational methods embedded in the exercise: whether the notebook is complete and your results accurate."
   ]
  }
 ],
 "metadata": {
  "kernelspec": {
   "display_name": "Python 2",
   "language": "python",
   "name": "python2"
  },
  "language_info": {
   "codemirror_mode": {
    "name": "ipython",
    "version": 2
   },
   "file_extension": ".py",
   "mimetype": "text/x-python",
   "name": "python",
   "nbconvert_exporter": "python",
   "pygments_lexer": "ipython2",
   "version": "2.7.11"
  }
 },
 "nbformat": 4,
 "nbformat_minor": 0
}
