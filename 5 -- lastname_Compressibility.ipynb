{
 "cells": [
  {
   "cell_type": "markdown",
   "metadata": {
    "deletable": true,
    "editable": true
   },
   "source": [
    "### <font face = \"georgia\"><p style = 'text-align: center;'> Computational Guided Inquiry for PChem (Neshyba & Guasco, 2017)</p>\n",
    "\n",
    "# <p style = 'text-align: center;'><font face = \"georgia\"> Inferring Model Parameters From Gas Compressibility </p>\n",
    "\n",
    "<font face=\"georgia\">**OBJECTIVE**: Infer parameters of gas models from gas compressibility data"
   ]
  },
  {
   "cell_type": "markdown",
   "metadata": {
    "deletable": true,
    "editable": true
   },
   "source": [
    "<font face=\"georgia\">**What to do in preparation for this activity:** \n",
    "\n",
    "1. Read the Introduction below.\n",
    "<br>\n",
    "2. For your prelab, have ready to turn in a single piece of paper with the following information:  \n",
    "• All of the equations in the introduction, labeled to indicate what each equation is.  \n",
    "• A proof that shows that $\\rho=\\dfrac{P}{RT}$ for an ideal gas. Eq. 1 in the introduction gives the definition of $\\rho$.  \n",
    "3. Prepare your lab notebook (the physical notebook) with a table of contents entry and a starting page for this assignment."
   ]
  },
  {
   "cell_type": "markdown",
   "metadata": {
    "deletable": true,
    "editable": true
   },
   "source": [
    "## <font face = \"georgia\">Introduction\n",
    "<font face = \"georgia\">Everybody knows that gases are compressible - they become denser when the pressure goes up, but not all gases do this in exactly the same way.  That is because a gas's compressibility is influenced by intermolecular forces, which we know vary from gas to gas.  That, in turn, implies something rather intriguing to a physical chemist: it means that by studying gas density, we can gain insight into how gas molecules interact!  That is one reason why physical chemists have long been interested in analyzing gas density.\n",
    "\n",
    "It is useful to talk about gas compressibility in terms of a quantity call the _mole density_.  Mole density is like the ordinary mass density that you're used to, but it tells you the number of moles in a given volume.  Mathematically, it's defined as\n",
    "\n",
    "<p style = 'text-align: right;'>\n",
    "$\\rho = \\dfrac{n}{V}$\n",
    "$\\qquad\\qquad\\qquad\\qquad\\qquad\\qquad\\qquad\\qquad\\qquad\\qquad  (1) $\n",
    "</p>\n",
    "\n"
   ]
  },
  {
   "cell_type": "markdown",
   "metadata": {
    "deletable": true,
    "editable": true
   },
   "source": [
    "<font face = \"georgia\">It's not hard to show that, for ideal gases, the mole density is just proportional to the pressure: $\\rho_{ideal}=P/RT$. For real gases, we expect some non-linear dependence. For example, the mole density of air is shown in Fig. 1. You can see that isotherms of the mole density show an increase in density with pressure, but this increase isn't linear. To a physical chemist, that's a good thing: it means there are intermolecular forces at work here!\n",
    "\n"
   ]
  },
  {
   "cell_type": "markdown",
   "metadata": {
    "deletable": true,
    "editable": true
   },
   "source": [
    "<p style ='text-align: center;'>\n",
    "<img src=\"http://webspace.pugetsound.edu/facultypages/nesh/Notebook/Z figure 1.png\" height=\"300\" width=\"300\"/>  \n",
    "</p>\n",
    "<p style ='text-align: center;'><font face = \"georgia\">\n",
    "<strong>Figure 1</strong>. Thermodynamic surface of the mole density, $\\rho(T,P)$ of air.\n",
    "</p>\n",
    "<br>\n"
   ]
  },
  {
   "cell_type": "markdown",
   "metadata": {
    "deletable": true,
    "editable": true
   },
   "source": [
    "<font face = \"georgia\">Another quantity useful for analyzing gas density if the _gas compressibility factor_, $Z$.  This factor is defined as the ratio of the volume of a real gas, $V$ to the volume it _would have_ if it were an ideal gas.  It is often written as\n",
    "\n",
    "<p style='text-align: right;'>\n",
    "$Z \\equiv \\dfrac{V}{V_{ideal}} = \\dfrac{\\rho_{ideal}}{\\rho}$\n",
    "$\\qquad\\qquad\\qquad\\qquad\\qquad\\qquad\\qquad\\qquad\\qquad\\qquad  (2) $\n",
    "</p>\n",
    "\n",
    "where we have used Eq. 1 to get the last equality. Equation 2 is useful if you know $\\rho(T,P)$ and would like to know what $Z(T,P)$ looks like. An example is shown in Figure 2.\n",
    "\n",
    "<p style ='text-align: center;'>\n",
    "<img src=\"http://webspace.pugetsound.edu/facultypages/nesh/Notebook/Z figure 2.png\" height=\"300\" width=\"300\"/>  \n",
    "</p>\n",
    "<p style='text-align: center;'>\n",
    "<strong>Figure 2</strong>. Thermodynamic surface of the compressibility factor, $Z(T,P)$, of air.\n",
    "</p>\n",
    "\n"
   ]
  },
  {
   "cell_type": "markdown",
   "metadata": {
    "deletable": true,
    "editable": true
   },
   "source": [
    "<font face = \"georgia\">Surfaces like those shown in Figs. 1 and 2 can be quite useful from a qualitative point of view.  You know that gases behave ideally in the low-pressure limit, for example, so you would expect $Z \\rightarrow 1$ as $P \\rightarrow 0$.  As can be seen from Figure 2, it does!  Now look carefully at the isotherms in Fig. 2. At low temperatures (eg., at 150 K), <em>Z</em> first dips down, then goes up, with increasing pressure. At high temperatures, <em>Z</em> does not exhibit this dip. The temperature at which a gas transitions between these two patterns is called the <em>Boyle temperature</em>, $T_{Boyle}$.\n",
    "\n",
    "When two variables depend explicitly on a third variable, there obviously exists some implicit interdependence between the first two; this is called <em>parametric dependence</em>.  For a given set of pressures at a given temperature, for example, we can talk about $Z$, as a _parametric function_ of $\\rho$, designated $Z(\\rho)$.  It's an isotherm because it describes behavior at a given temperature.  A plot of $Z(\\rho)$ is displayed in Figure 3.\n",
    "\n",
    "\n",
    "<p style ='text-align: center;'>\n",
    "<img src=\"http://webspace.pugetsound.edu/facultypages/nesh/Notebook/Z figure 3.png\" height=\"300\" width=\"300\"/>  \n",
    "</p>\n",
    " \n",
    "<p style = 'text-align: center;'>\n",
    "<strong>Figure 3</strong>. Isotherm <em>Z(<font face=\"symbol\">$\\rho$<font face=\"georgia\">)</em> of air derived from thermodynamic surfaces of <em><font face=\"symbol\">$\\rho$<font face=\"georgia\">(T,P)</em> and <em>Z(T,P)</em> from Figs 1 and 2.\n",
    "</p>\n",
    "<br>\n"
   ]
  },
  {
   "cell_type": "markdown",
   "metadata": {
    "deletable": true,
    "editable": true
   },
   "source": [
    "<font face = \"georgia\">Why do we care about $Z(\\rho)$?  You can see from Fig. 3 that $Z$ is a rather simple function of $\\rho$.  In fact, it is often quite well described as a simple cubic polynomial in an equation of state referred to as the _Virial Equation_,\n",
    "<br>\n",
    "<p style = 'text-align: right;'>\n",
    "$Z_{Virial}(\\rho) = 1 + B\\rho + C\\rho ^2 + D\\rho ^3$\n",
    "$\\qquad\\qquad\\qquad\\qquad\\qquad\\qquad\\qquad\\qquad\\qquad\\qquad (3) $\n",
    "</p>\n",
    "\n",
    "where the coefficients $B$, $C$, and $D$ are called the second, third, and fourth _virial coefficients_.  It is assumed that these coefficients are temperature-dependent.  In particular, you should note that the transition mentioned previously in reference to Fig. 2 (the Boyle temperature) appears in the Virial Equation as a transition from $B < 0$ (below the Boyle temperature) to $B > 0$ (above the Boyle temperature).\n",
    "\n",
    "Virial coefficients offer a concise way of summarizing a lot of compressibility data.  But how do they provide insight into intermolecular forces?  The answer is, virial coefficients can tell us about equations of state called _model equations of state_, which contain physically meaningful constants.  For example, in the van der Waals model equation of state,$^1$\n",
    "\n",
    "<p style = 'text-align: right;'>\n",
    "$P = \\dfrac{nRT}{V-nb}-\\dfrac{n^2 a}{V^2} \\qquad$\n",
    "$\\qquad\\qquad\\qquad\\qquad\\qquad\\qquad\\qquad\\qquad\\qquad\\qquad  (4) $\n",
    "</p>\n",
    "\n",
    "the constant $a$ is a measure of the intermolecular _attractions_, and the constant $b$ is a measure of the intermolecular _repulsions_.\n",
    "\n"
   ]
  },
  {
   "cell_type": "markdown",
   "metadata": {
    "deletable": true,
    "editable": true
   },
   "source": [
    "<font face = \"georgia\">So the game plan is this: infer virial coefficients $B$, $C$, and $D$ from experimental data, and use those values to infer the physical parameters of model equations.  How do we do that?  For the van der Waals equation, if you multiply both sides of Eq. 4 by $V/nRT$, you will see that you have isolated van der Waals's equivalent of $Z$ on one side (which we call $Z_{vdW}$), \n",
    "    \n",
    "<p style ='text-align: right;'>\n",
    "$Z_{vdW} = \\dfrac{PV}{nRT} = \\dfrac{V}{V-nb} - \\dfrac{na}{VRT}$\n",
    "$\\qquad\\qquad\\qquad\\qquad\\qquad\\qquad\\qquad\\qquad\\qquad\\qquad  (5) $\n",
    "</p>\n",
    "\n",
    "which with the help of Eq. 1 leads to\n",
    "\n",
    "<p style = 'text-align: right;'>\n",
    "$Z_{vdW} = \\dfrac{1}{1-b\\rho}-\\dfrac{a}{RT}\\rho$\n",
    "$\\qquad\\qquad\\qquad\\qquad\\qquad\\qquad\\qquad\\qquad\\qquad\\qquad  (6) $\n",
    "</p>\n",
    "\n",
    "This equation does not look exactly like the Virial equation (Eq. 3), but it's close.  You can make it closer by doing a Taylor expansion of $Z_{vdW}$ with respect to the mole density,\n",
    "\n",
    "<p style = 'text-align: right;'>\n",
    "$Z_{vdW,Taylor} = 1 + \\left(b-\\dfrac{a}{RT}\\right)\\rho + b^2\\rho^2$\n",
    "$\\qquad\\qquad\\qquad\\qquad\\qquad\\qquad\\qquad\\qquad  (7) $\n",
    "</p>\n",
    "\n"
   ]
  },
  {
   "cell_type": "markdown",
   "metadata": {
    "deletable": true,
    "editable": true
   },
   "source": [
    "<font face = \"georgia\">If you compare each term in this equation to Eq. 3, you can see that $B$ must equal the term in parenthesis, and $C$ must equal $b^2$.  This approach is called <em>term-for-term equivalence analysis</em>.  From there, you can solve algebraically for $a$ and $b$ in terms of $B$ and $C$.  A similar approach can be used for other model gases$^1$. \n",
    "\n",
    "In this exercise, you'll be using Python to do exactly that.  From a supplied thermodynamic surface of the density, $\\rho(T,P)$, you'll construct the compressibility $Z(T,P)$.  From these surfaces, you'll extract $Z(\\rho)$ isotherms, and fit them using Python's built-in polynomial least squares fitting function to get virial coefficients.  Then, you'll construct expressions for $Z_{vdW}$, do a Taylor expansion, and carry out a term-for-term equivalence analysis.  In the end, you'll have values of model gas constants based on experiment.\n"
   ]
  },
  {
   "cell_type": "markdown",
   "metadata": {
    "deletable": true,
    "editable": true
   },
   "source": [
    "## <font face = \"georgia\">References  \n",
    "<font face = \"georgia\"><p style='text-align: left;'>\n",
    "(1) Real gas - Wikipedia, the free encyclopedia, http://en.wikipedia.org/wiki/Real_gas (_accessed September 29, 2014_).  \n",
    "</p>"
   ]
  },
  {
   "cell_type": "markdown",
   "metadata": {
    "deletable": true,
    "editable": true
   },
   "source": [
    "## <font face = \"georgia\">In-class activities  \n",
    "\n",
    "<font face = \"georgia\">Import various libraries."
   ]
  },
  {
   "cell_type": "code",
   "execution_count": null,
   "metadata": {
    "collapsed": false,
    "deletable": true,
    "editable": true
   },
   "outputs": [],
   "source": [
    "import numpy as np\n",
    "import matplotlib.pyplot as plt\n",
    "from mpl_toolkits.mplot3d import axes3d\n",
    "%matplotlib notebook\n"
   ]
  },
  {
   "cell_type": "markdown",
   "metadata": {
    "deletable": true,
    "editable": true
   },
   "source": [
    "<font face = \"georgia\">You'll next want to define the necessary variables, and load the appropriate text files."
   ]
  },
  {
   "cell_type": "code",
   "execution_count": null,
   "metadata": {
    "collapsed": false,
    "deletable": true,
    "editable": true
   },
   "outputs": [],
   "source": [
    "# Constants\n",
    "n=1\n",
    "R=0.082\n",
    "\n",
    "# Load the data\n",
    "P = np.loadtxt('P_comp.txt')\n",
    "T = np.loadtxt('T_comp.txt')\n",
    "Pgrid,Tgrid=np.meshgrid(P,T)\n"
   ]
  },
  {
   "cell_type": "markdown",
   "metadata": {
    "deletable": true,
    "editable": true
   },
   "source": [
    "<font face = \"georgia\">It's convenient to report the temperatures and pressures we're working with. Modify the cell below to finish that reporting."
   ]
  },
  {
   "cell_type": "code",
   "execution_count": null,
   "metadata": {
    "collapsed": false,
    "deletable": true,
    "editable": true
   },
   "outputs": [],
   "source": [
    "# Report the temperatures we are working with\n",
    "print 'T = ', T\n",
    "\n",
    "# Also report the pressures\n",
    "print 'P = ', P\n"
   ]
  },
  {
   "cell_type": "markdown",
   "metadata": {
    "deletable": true,
    "editable": true
   },
   "source": [
    "<font face = \"georgia\">Now load and graph $\\rho$ of the real gas as a thermodynamic surface. Make it blue."
   ]
  },
  {
   "cell_type": "code",
   "execution_count": null,
   "metadata": {
    "collapsed": false,
    "deletable": true,
    "editable": true
   },
   "outputs": [],
   "source": [
    "# Load rho of the real gas\n",
    "rho = np.loadtxt('rhoreal.txt')\n",
    "\n",
    "# Graph rho(T,P) \n",
    "ax = plt.figure().gca(projection='3d') # Set up a three dimensional graphics window \n",
    "ax.plot_surface(Pgrid, Tgrid, rho, rstride=2, cstride=2, color='blue') # Make the mesh plot\n",
    "ax.set_xlabel('P (atm)') # Label axes\n",
    "ax.set_ylabel('T (K)')\n",
    "ax.set_zlabel(r'$\\rho$')\n"
   ]
  },
  {
   "cell_type": "markdown",
   "metadata": {
    "deletable": true,
    "editable": true
   },
   "source": [
    "<font face = \"georgia\">For comparison, calculate and graph the density of an ideal gas. Make it green."
   ]
  },
  {
   "cell_type": "code",
   "execution_count": null,
   "metadata": {
    "collapsed": false,
    "deletable": true,
    "editable": true
   },
   "outputs": [],
   "source": [
    "# Calculate rho for an ideal gas (i.e., P/nRT, using gridded pressure and temperature) \n",
    "rhoideal = Pgrid/(n*R*Tgrid)\n",
    "\n",
    "# Graph rho(T,P) (ideal gas)\n"
   ]
  },
  {
   "cell_type": "markdown",
   "metadata": {
    "deletable": true,
    "editable": true
   },
   "source": [
    "#### <font face = \"georgia\">Pause for Analysis #1: \n",
    "#### <font face = \"georgia\">Make a sketch of the real and ideal thermodynamic surfaces $\\rho(T,P)\\space$ in your lab notebook, and make a note of the regions of state space in which the behavior of the real gas deviates most strongly from ideal behavior at low-temperature."
   ]
  },
  {
   "cell_type": "markdown",
   "metadata": {
    "deletable": true,
    "editable": true
   },
   "source": [
    "<font face = \"georgia\">Next we'll get some practice with slicing some isotherms. You will be assigned a temperature for this isotherm by your instructor, but how will you determine the right row of data? One way is to just try a few temperature indices until you have identified the correct value. "
   ]
  },
  {
   "cell_type": "code",
   "execution_count": null,
   "metadata": {
    "collapsed": false,
    "deletable": true,
    "editable": true
   },
   "outputs": [],
   "source": [
    "print \"T= \", T[3]\n"
   ]
  },
  {
   "cell_type": "markdown",
   "metadata": {
    "deletable": true,
    "editable": true
   },
   "source": [
    "<font face = \"georgia\">Now make a graph of $\\rho$ (real as well as ideal) as a function of pressure along your assigned isotherm. It will be convienient to make the real curve blue, and the ideal curve green. "
   ]
  },
  {
   "cell_type": "code",
   "execution_count": null,
   "metadata": {
    "collapsed": false,
    "deletable": true,
    "editable": true
   },
   "outputs": [],
   "source": [
    "rhoslice = rho[3,:]\n",
    "rhoidealslice = rhoideal[3,:]\n",
    "plt.figure()\n",
    "plt.plot(P,rhoslice,'blue',P,rhoidealslice,'green')\n",
    "plt.xlabel('Pressure')\n",
    "plt.ylabel('rho')\n"
   ]
  },
  {
   "cell_type": "markdown",
   "metadata": {
    "deletable": true,
    "editable": true
   },
   "source": [
    "<font face = \"georgia\">Now that we have calculated values of $\\rho$ for both real and ideal gases, we can use them to calculate _Z_ by combining Eqs. 1 and 2. After calculating _Z_, we will graph _it_ as a thermodynamic surface. "
   ]
  },
  {
   "cell_type": "code",
   "execution_count": null,
   "metadata": {
    "collapsed": false,
    "deletable": true,
    "editable": true
   },
   "outputs": [],
   "source": [
    "Z = rhoideal/rho\n"
   ]
  },
  {
   "cell_type": "markdown",
   "metadata": {
    "deletable": true,
    "editable": true
   },
   "source": [
    "#### <font face = \"georgia\">Pause for Analysis #2: \n",
    "#### <font face = \"georgia\">Sketch the $Z(T,P)$ surface in your notebook. In words, describe the asymptotic or limiting behaviors of $Z$, especially in the limit of low pressure. (It is worthwhile recalling that $Z(T,P)=1$ for an ideal gas). Finally, from inspection of the surface, infer and record an approximate temperature at which you see a transition from isotherms that dip down initially with increasing pressure, to isotherms that only exhibit positive slope with respect to pressure. This is your predicted value of the Boyle temperature of air. Record that predicted value."
   ]
  },
  {
   "cell_type": "markdown",
   "metadata": {
    "deletable": true,
    "editable": true
   },
   "source": [
    "<font face = \"georgia\">For the next step you will be doing some parametric plotting. That means, you'll extract isotherms (slices) of _Z(T,P)_ and $\\rho (T,P)$, and graph one against the other. This will be the parametric $Z(\\rho )$ isotherm. Since these are discrete experimental data points, you should plot them using markers, rather than as a line."
   ]
  },
  {
   "cell_type": "code",
   "execution_count": null,
   "metadata": {
    "collapsed": false,
    "deletable": true,
    "editable": true
   },
   "outputs": [],
   "source": [
    "Zslice = Z[3,:]\n",
    "rhoslice = rho[3,:]\n",
    "plt.figure()\n",
    "plt.plot(rhoslice,Zslice,'o')\n",
    "plt.xlabel('rho (1/L)')\n",
    "plt.ylabel('Z')\n",
    "plt.grid('on')\n"
   ]
  },
  {
   "cell_type": "markdown",
   "metadata": {
    "deletable": true,
    "editable": true
   },
   "source": [
    "#### <font face = \"georgia\">Pause for Analysis #3: \n",
    "#### <font face = \"georgia\">Examine this curve carefully. In Pause for Analysis #2, you predicted a value for the Boyle temperature. If your assigned temperature is below that predicted value, you would expect your curve to slope downward first, then up. If your assigned temperature is above that predicted value, your curve should have positive slope everywhere. Does your curve exhibit the expected behavior?"
   ]
  },
  {
   "cell_type": "markdown",
   "metadata": {
    "deletable": true,
    "editable": true
   },
   "source": [
    "<font face = \"georgia\">Now that you have a plot of experimental data, you'll need to fit it with a third-order polynomial in order to get the coefficients for $Z(\\rho )$ at your temperature. The code below does a second-order polynomial, so fix it to give you the $\\rho^3$ coefficient."
   ]
  },
  {
   "cell_type": "code",
   "execution_count": null,
   "metadata": {
    "collapsed": false,
    "deletable": true,
    "editable": true
   },
   "outputs": [],
   "source": [
    "pfit = np.flipud(np.polyfit(rhoslice,Zslice,2))\n",
    "A = pfit[0]\n",
    "B = pfit[1]\n",
    "C = pfit[2]\n",
    "print A, B, C\n"
   ]
  },
  {
   "cell_type": "markdown",
   "metadata": {
    "deletable": true,
    "editable": true
   },
   "source": [
    "#### <font face = \"georgia\">Pause for Analysis #4: \n",
    "#### <font face = \"georgia\">Take a close look at these coefficients. First, the first value should be close to 1. Is it? Second, the sign of $B$ should be consistent with your observation about the slope in Pause for Analysis #3. For example, a  negative value of $B$ would be consistent with an initially downward-sloping $Z$, and indicate that your temperature is lower than the Boyle temperature. Is the sign of $B$ extracted by polyfit consistent with your prediction from Pause for Analysis #3?"
   ]
  },
  {
   "cell_type": "markdown",
   "metadata": {
    "deletable": true,
    "editable": true
   },
   "source": [
    "<font face = \"georgia\">Now you should be ready to construct a theoretical curve using the virial equation and the virial coefficients you just got. Construct that curve, and plot it as a line on top of the experimental values. The code below is missing the third-order part, so you should add that in."
   ]
  },
  {
   "cell_type": "code",
   "execution_count": null,
   "metadata": {
    "collapsed": false,
    "deletable": true,
    "editable": true
   },
   "outputs": [],
   "source": [
    "# Construct a theoretical curve using the virial equation (but don't forget to add the 3rd order part)\n",
    "Zfit = 1 + B*rhoslice + C*rhoslice**2\n",
    "\n",
    "# Graph Z(rho) based on the virial equation, as a line)\n",
    "plt.figure()\n",
    "plt.plot(rhoslice,Zfit)\n",
    "\n",
    "# Also graph Z (experimental as symbols)\n",
    "\n",
    "\n",
    "# Do some labeling\n",
    "plt.xlabel('rho (1/L)')\n",
    "plt.ylabel('Z')\n",
    "plt.grid('on')\n"
   ]
  },
  {
   "cell_type": "markdown",
   "metadata": {
    "deletable": true,
    "editable": true
   },
   "source": [
    "#### <font face = \"georgia\">Pause for Analysis #5: \n",
    "#### <font face = \"georgia\">Graphically, does your theoretical curve fit the experimental data closely?  If not, check for mistakes in your code. When you have a good fit, record the virial coefficients that you calculated above in your notebook. Then solve for the van der Waals parameters based on relevant equations in the Introduction."
   ]
  },
  {
   "cell_type": "markdown",
   "metadata": {
    "collapsed": true,
    "deletable": true,
    "editable": true
   },
   "source": [
    "## <font face=\"georgia\">Post-class activities  \n",
    "<font face = \"georgia\">In your lab notebook:\n",
    "\n",
    "1. In your own words define the terms _compressibility factor_, _Boyle temperature_, _virial equation_, _virial coefficients_, _model equation of state_, and _term-for-term equivalence analysis_.\n",
    "\n"
   ]
  },
  {
   "cell_type": "markdown",
   "metadata": {
    "deletable": true,
    "editable": true
   },
   "source": [
    "## <font face=\"georgia\">Due by the following class meeting \n",
    "\n",
    "<font face = \"georgia\">\n",
    "1. Your lab notebook, which contains:<br>\n",
    "• Any sketches of graphs you were instructed to include.<br>\n",
    "• Your responses to the \"Pause for Analysis\" items.<br>\n",
    "• The post-class activities.<br>\n",
    "2. Your Python notebook (the .ipynb file) placed in your Dropbox folder. I will look at your file for evidence of mastery of the computational methods embedded in the exercise: whether the notebook is complete and your results accurate."
   ]
  }
 ],
 "metadata": {
  "kernelspec": {
   "display_name": "Python 2",
   "language": "python",
   "name": "python2"
  },
  "language_info": {
   "codemirror_mode": {
    "name": "ipython",
    "version": 2
   },
   "file_extension": ".py",
   "mimetype": "text/x-python",
   "name": "python",
   "nbconvert_exporter": "python",
   "pygments_lexer": "ipython2",
   "version": "2.7.11"
  }
 },
 "nbformat": 4,
 "nbformat_minor": 0
}
