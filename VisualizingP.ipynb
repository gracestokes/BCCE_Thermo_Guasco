{
 "cells": [
  {
   "cell_type": "markdown",
   "metadata": {
    "deletable": false,
    "editable": false,
    "nbgrader": {
     "cell_type": "markdown",
     "checksum": "34aef1c5b9fb268c5a37dd95e3c794a8",
     "grade": false,
     "grade_id": "cell-c6b4f998c04935d3",
     "locked": true,
     "schema_version": 3,
     "solution": false,
     "task": false
    }
   },
   "source": [
    "### Computational Guided Inquiry for PChem (Neshyba & Pfalzgraff, 2022)\n",
    "\n",
    "\n",
    "# Visualizing $P(T,V)$\n",
    "\n",
    "\n",
    "### Maxwell's thermodynamic surfaces\n",
    "\n",
    "A fundamental idea of thermodynamics is the notion of _thermodynamic surfaces_. James Clerk Maxwell famously made three such surfaces out of plaster, and gave one as a present to Gibbs, shown below.\n",
    "\n",
    "<p style='text-align: center;'>\n",
    "<img src=\"https://upload.wikimedia.org/wikipedia/commons/2/27/Maxwell%27s_thermodynamic_surface%2C_commentary_book_figures_1%2C2.jpg\" height=\"500\" width=\"500\"/>  \n",
    "\n",
    "  __Figure 1__. Thermodynamic surface of the energy of an idealized water-like substance constructed by James Clerk Maxwell as a gift to Josiah Willard Gibbs$^1$. \n",
    "</p>\n",
    "\n",
    "These surfaces depict the energy of a water-like substance as a function of its volume and entropy. We'll return to the ideas of energy and entropy later, for now we just want to stress two key points about it: First, there is a lot of insight to be got out of looking at those surfaces -- that's why Maxwell made them! And second, lots of times chemists like to create idealized, mathematical representations of them, to test whether their insights are correct. We'll get to that in a bit.\n",
    "\n",
    "### Some notational conventions\n",
    "\n",
    "There are some technical terms when talking about surfaces like the one shown in Fig. 1 that will be handy to keep in mind as we proceed: we'll say the *height* ($U$) is the *state function* of interest, and we'll call the *ground* the *state space* of interest. Putting this together, we'd say Maxwell has constructed the surface \"$U(V,S)$.\" \n",
    "\n",
    "### The pressure of a gas as a thermodynamic surface\n",
    "\n",
    "Here, we're interested in the pressure of a gas as the state function, and its temperature and volume as the state space of interest: $P(T,V)$. There have been many attempts to come up with a mathematical description of $P(T,V)$. One is the ideal gas law,\n",
    "\n",
    "$$\n",
    "P_{ideal}(T,V) = \\dfrac{n R T}{V} \\ \\ \\ \\ (1)\n",
    "$$\n",
    "\n",
    "What's so great about the ideal gas law? Most chemists would respond: It's so elegant! (meaning, simple.) But a drawback is that real molecules don't quite behave according to Eq. (1). Sometimes it's close enough to the real surface -- meaning, we can live with the inaccuracies built in to this mathematical description. But under certain conditions, we want or need to do better. That search starts with looking for behaviors of real gases, sometimes called *non-ideal behavior*. \n",
    "\n",
    "*The a-effect.* One non-ideal behavior is that, at a molecular level, real gas molecules are slightly attracted to one another, especially when they get within a few Angstroms. How would intermolecular attractions affect Eq. (1)? One answer to this question was supplied by van der Waals, in the form of\n",
    "\n",
    "$$\n",
    "P_{vdw,a}(T,V) = {{n R T} \\over V} - {{n^2 a} \\over V^2}  \\ \\ \\ (2)\n",
    "$$\n",
    "\n",
    "where $a$ is said to be a constant that characterizes each gas. You can see that, because of the minus sign in Eq. (2), bigger $a$ translates to lower pressure (all else equal). You can think of that as being due to molecules hitting the walls of their container a little less forcefully when they feel the tug of attraction to molecules behind them. \n",
    "\n",
    "Values of $a$ are tabulated, e.g., at https://en.wikipedia.org/wiki/Van_der_Waals_constants_(data_page). You might notice from such tabulations that bigger atoms and molecules tend to have bigger values of $a$ -- meaning they experience greater intermolecular attractions, and therefore exhibit a bigger a-effect.\n",
    "\n",
    "*The b-effect.* Another non-ideal behavior is that real gas molecules take up a small but finite amount of space. That might seem unobjectionable as long as we're talking about rarified gases, like Earth's upper atmosphere, where most of the volume really is just empty space. But as gases are confined into smaller and smaller volumes, the effect of finite molecular volume becomes important enough that the pressure of the gas is measureably different. van der Waals had a \"fix\" for this effect too, in the form\n",
    "\n",
    "$$\n",
    "P_{vdw,b}(T,V) = {{n R T} \\over {V - nb}}  \\ \\ \\ (3)\n",
    "$$\n",
    "\n",
    "where $b$ is (also) said to be a constant that characterizes each gas, usually tabulated alongside $a$ values. You can anticipate what the effect of a big value of $b$ would be on the pressure by thinking about the fact that $V - nb$ is smaller than $V$, which makes the denominator smaller, which makes the pressure bigger (all else equal). You might also notice from tabulated values that bigger atoms and molecules tend to have bigger values of $b$. \n",
    "\n",
    "Kind of tricky, eh? Molecular size tends to have competing effects on the pressure, depending on whether the a-effect (attractions) or the b-effect (finite size) dominates. Fortunately, vdw theory is set up so that we can consider both effects simultaneously, \n",
    "\n",
    "$$\n",
    "P_{vdw}(T,V) = {{n R T} \\over {V-nb}} - {{n^2 a} \\over V^2}  \\ \\ \\ (4)\n",
    "$$\n",
    "\n",
    "All the foregoing math might seem a little daunting -- isn't there a way to make it more ... visual? Well, yes -- with Python! Here are some ways in which the visualization capabilities of Python can help us build insight into the connections between the math and the underlying molecular properties we've called the a-effect and the b-effect:\n",
    "\n",
    "1. Under what temperatures and pressures are the effects of *attraction* most noticable? To answer that, we could plot the thermodynamic surface \n",
    "\n",
    "$$\n",
    "\\frac {P_{vdw,a}(T,V)-P_{ideal}(T,V)} {P_{ideal}(T,V)} \\times 100  \\ \\ \\ (5)\n",
    "$$\n",
    "\n",
    "2. Under what temperatures and pressures are the effects of *finite molecule size* most noticeable? To answer that, we could plot the thermodynamic surface \n",
    "\n",
    "$$\n",
    "\\frac {P_{vdw,b}(T,V)-P_{ideal}(T,V)} {P_{ideal}(T,V)} \\times 100  \\ \\ \\ (6)\n",
    "$$\n",
    "\n",
    "3. What happens when the a-effect and the b-effect are combined? Here we could plot \n",
    "\n",
    "$$\n",
    "\\frac {P_{vdw}(T,V)-P_{ideal}(T,V)} {P_{ideal}(T,V)} \\times 100  \\ \\ \\ (7)\n",
    "$$\n",
    "\n",
    "Hopefully, out of all this, we will emerge with some insight about how intermolecular forces affect the pressure of real gases, and how those forces are manifested mathematically and as thermodynamic surfaces. \n",
    "\n",
    "### Reinforcing past learning goals\n",
    "1. We've dealt with state-space grids before, using the *Pchem* library function *PL.Statespace*. Here you'll construct a temperature-volume state space. \n",
    "1. We've also dealt with the use of combined numerical/unit variables before, using the Python package *pint*. Here you'll get more practice using *pint*.\n",
    "\n",
    "### New learning goals\n",
    "1. To visualize simple gas equations of state (like the ideal gas or a van der Waals gas) as thermodynamic surfaces.\n",
    "1. To gain intuition about the conditions under which van der Waals' \"corrections\" to the ideal gas law become important.\n",
    "1. To gain intuition about the mathematical structure of van der Waals corrections.\n",
    "\n",
    "### References\n",
    "(1) Willard Gibbs: American Genius (1942), by Muriel Rukeyser.  "
   ]
  },
  {
   "cell_type": "markdown",
   "metadata": {
    "deletable": false,
    "editable": false,
    "nbgrader": {
     "cell_type": "markdown",
     "checksum": "236e6a2bc8c8124693fe0f9128844832",
     "grade": false,
     "grade_id": "cell-d45c4de0fd323096",
     "locked": true,
     "schema_version": 3,
     "solution": false,
     "task": false
    }
   },
   "source": [
    "### Here are the usual imports"
   ]
  },
  {
   "cell_type": "code",
   "execution_count": null,
   "metadata": {
    "deletable": false,
    "editable": false,
    "nbgrader": {
     "cell_type": "code",
     "checksum": "ecc1c9acc79f9ab3f07e93e9880514a6",
     "grade": false,
     "grade_id": "cell-3d4d6f85372af024",
     "locked": true,
     "schema_version": 3,
     "solution": false,
     "task": false
    }
   },
   "outputs": [],
   "source": [
    "import pint; from pint import UnitRegistry; AssignQuantity = UnitRegistry().Quantity\n",
    "import numpy as np\n",
    "import matplotlib.pyplot as plt\n",
    "import PchemLibrary as PL\n",
    "from mpl_toolkits.mplot3d import axes3d\n",
    "%matplotlib inline"
   ]
  },
  {
   "cell_type": "markdown",
   "metadata": {
    "deletable": false,
    "editable": false,
    "nbgrader": {
     "cell_type": "markdown",
     "checksum": "f5e3948d91fe9f32c9e68f33e7b8c7a0",
     "grade": false,
     "grade_id": "cell-b76fdf4259681731",
     "locked": true,
     "schema_version": 3,
     "solution": false,
     "task": false
    }
   },
   "source": [
    "### Review: making a temperature-volume state space\n",
    "Here you'll practice your state-space-making skills. Here's what we want:\n",
    "- variable \"Tgrid\", having 100 values, running from 200 to 600 K\n",
    "- variable \"Vgrid\", having 100 values, running from 1 to 42 L\n",
    "\n",
    "Also, use AssignQuantity to make the units of Tgrid 'K', and the units of Vgrid 'L'."
   ]
  },
  {
   "cell_type": "code",
   "execution_count": null,
   "metadata": {
    "deletable": false,
    "editable": false,
    "nbgrader": {
     "cell_type": "code",
     "checksum": "35ff543878b7716f90e3c82260b63d68",
     "grade": false,
     "grade_id": "cell-bd71ce390b1aeb4a",
     "locked": true,
     "schema_version": 3,
     "solution": false,
     "task": false
    }
   },
   "outputs": [],
   "source": [
    "# Create the numerical grid (of temperature and volume)\n",
    "Tgrid,Vgrid = PL.Statespace([200,600,100],[1,42,100])\n",
    "\n",
    "# Attach units (K for Tgrid, L for Vgrid)\n",
    "Tgrid = AssignQuantity(Tgrid,\"K\")\n",
    "Vgrid = AssignQuantity(Vgrid,\"L\")\n",
    "\n",
    "# Check out the results\n",
    "print(np.shape(Tgrid))\n",
    "print(np.shape(Vgrid))"
   ]
  },
  {
   "cell_type": "markdown",
   "metadata": {
    "deletable": false,
    "editable": false,
    "nbgrader": {
     "cell_type": "markdown",
     "checksum": "cb053bcce4bab0a4c4fd7596be788c0e",
     "grade": false,
     "grade_id": "cell-78d996cd1571724a",
     "locked": true,
     "schema_version": 3,
     "solution": false,
     "task": false
    }
   },
   "source": [
    "###  Constants for our pressure calculation\n",
    "The cell below sets us up for using 1 mole of gas, and working in the L-atm unit system, in the rest of this notebook."
   ]
  },
  {
   "cell_type": "code",
   "execution_count": null,
   "metadata": {
    "deletable": false,
    "editable": false,
    "nbgrader": {
     "cell_type": "code",
     "checksum": "c947aeeceb929f39eb00919832f3e5d0",
     "grade": false,
     "grade_id": "cell-97cf79fa93a9ea41",
     "locked": true,
     "schema_version": 3,
     "solution": false,
     "task": false
    }
   },
   "outputs": [],
   "source": [
    "# Moles, and the gas constant\n",
    "n = AssignQuantity(1,\"mol\"); print(n)\n",
    "R = AssignQuantity(0.082057,\"L atm /(mol K)\"); print(R)"
   ]
  },
  {
   "cell_type": "markdown",
   "metadata": {
    "deletable": false,
    "editable": false,
    "nbgrader": {
     "cell_type": "markdown",
     "checksum": "288d90d36e414a739980b44a37ae3395",
     "grade": false,
     "grade_id": "cell-12d3db3497c506e9",
     "locked": true,
     "schema_version": 3,
     "solution": false,
     "task": false
    }
   },
   "source": [
    "### Assigning van der Waals parameters and converting to the L-atm system\n",
    "In the cell below, we assign vdw parameters for a hypothetical gas, and convert the a-value to the Liter-atm system."
   ]
  },
  {
   "cell_type": "code",
   "execution_count": null,
   "metadata": {
    "deletable": false,
    "editable": false,
    "nbgrader": {
     "cell_type": "code",
     "checksum": "d6939268bf8a1e82b0fca6530c6ca171",
     "grade": false,
     "grade_id": "cell-a2c17753b68a01a77",
     "locked": true,
     "schema_version": 3,
     "solution": false,
     "task": false
    }
   },
   "outputs": [],
   "source": [
    "# Assign vdw quantities for a hypothetical gas\n",
    "a = AssignQuantity(1.0,'L^2 bar / mol^2'); print(a)\n",
    "a.ito('L^2 atm / mol^2'); print(a)\n",
    "b = AssignQuantity(0.05,'L /mol'); print(b)"
   ]
  },
  {
   "cell_type": "markdown",
   "metadata": {
    "deletable": false,
    "editable": false,
    "nbgrader": {
     "cell_type": "markdown",
     "checksum": "c32ac4107509c35cdcc2a127aac9bfb7",
     "grade": false,
     "grade_id": "cell-bc5bd537da091fc2",
     "locked": true,
     "schema_version": 3,
     "solution": false,
     "task": false
    }
   },
   "source": [
    "### Your turn\n",
    "In the cell below, reassign values of $a$ and $b$ using values for Ar listed at https://en.wikipedia.org/wiki/Van_der_Waals_constants_(data_page). As before, convert the $a$ value to the Liter-atm system. "
   ]
  },
  {
   "cell_type": "code",
   "execution_count": null,
   "metadata": {
    "deletable": false,
    "nbgrader": {
     "cell_type": "code",
     "checksum": "468a369ec69bf05d4e759288b3cee12a",
     "grade": true,
     "grade_id": "cell-a2c17753b68a01a71",
     "locked": false,
     "points": 2,
     "schema_version": 3,
     "solution": true,
     "task": false
    }
   },
   "outputs": [],
   "source": [
    "# Assign vdw quantities for Argon gas\n",
    "# Your code here \n"
   ]
  },
  {
   "cell_type": "markdown",
   "metadata": {
    "deletable": false,
    "editable": false,
    "nbgrader": {
     "cell_type": "markdown",
     "checksum": "7e40f99501c1c71685373d22de644b77",
     "grade": false,
     "grade_id": "cell-6fcda122c6b9fa08",
     "locked": true,
     "schema_version": 3,
     "solution": false,
     "task": false
    }
   },
   "source": [
    "### Visualizing the ideal gas equation of state as a thermodynamic surface\n",
    "In the cell below, we use PchemLibrary function \"plot_surface\" to visualize the ideal gas equation of state as a thermodynamic surface."
   ]
  },
  {
   "cell_type": "code",
   "execution_count": null,
   "metadata": {
    "deletable": false,
    "editable": false,
    "nbgrader": {
     "cell_type": "code",
     "checksum": "f518da08375a52a52ef82bdd7f6e42e0",
     "grade": false,
     "grade_id": "cell-6de4db34594d6350",
     "locked": true,
     "schema_version": 3,
     "solution": false,
     "task": false
    }
   },
   "outputs": [],
   "source": [
    "# Get the pressure of an ideal gas (Eq. 1)\n",
    "Pgrid_ideal = n*R*Tgrid/Vgrid\n",
    "\n",
    "# Graph the pressure of the ideal gas\n",
    "ax = PL.plot_surface(Tgrid, Vgrid, Pgrid_ideal, color='purple') # Make the mesh plot P(V,T)\n",
    "ax.set_xlabel(Tgrid.units)\n",
    "ax.set_ylabel(Vgrid.units)\n",
    "ax.set_zlabel(Pgrid_ideal.units)\n",
    "ax.set_title(\"ideal gas\")"
   ]
  },
  {
   "cell_type": "markdown",
   "metadata": {
    "deletable": false,
    "editable": false,
    "nbgrader": {
     "cell_type": "markdown",
     "checksum": "787b6ac81129048eaef5b654ee6b9649",
     "grade": false,
     "grade_id": "cell-a3f36728e4d75aee",
     "locked": true,
     "schema_version": 3,
     "solution": false,
     "task": false
    }
   },
   "source": [
    "### Visualizing vdw a\n",
    "Using the same temperature-volume state space as before, we will make a new gridded variable, Pgrid_vdw_a (Eq. 2), for Argon gas. "
   ]
  },
  {
   "cell_type": "code",
   "execution_count": null,
   "metadata": {
    "deletable": false,
    "nbgrader": {
     "cell_type": "code",
     "checksum": "99f11360324817e81686f9c7c4bd0704",
     "grade": true,
     "grade_id": "cell-6f94d41ed66e8fe",
     "locked": false,
     "points": 2,
     "schema_version": 3,
     "solution": true,
     "task": false
    }
   },
   "outputs": [],
   "source": [
    "# Calculate the pressure of a vdw gas with the a-effect (Eq. 2); call the resulting pressure Pgrid_vdw_a\n",
    "Pgrid_vdw_a = n*R*Tgrid/Vgrid-n**2*a/Vgrid**2\n",
    "\n",
    "# Graph it as a thermodynamic surface\n",
    "# Your code here \n"
   ]
  },
  {
   "cell_type": "markdown",
   "metadata": {
    "deletable": false,
    "editable": false,
    "nbgrader": {
     "cell_type": "markdown",
     "checksum": "6ee310c91f508fbf1cf7395c2345b286",
     "grade": false,
     "grade_id": "cell-9d097c889be3c6c7",
     "locked": true,
     "schema_version": 3,
     "solution": false,
     "task": false
    }
   },
   "source": [
    "### Visualizing the a-effect\n",
    "You've probably noticed that it's kind of hard to tell the difference between the thermodynamic surfaces you just generated. That's good in a way -- it gives us in the accuracy of the ideal gas law! But if we really want to get quantitative (and we do!), we should examine the *difference* between them.  \n",
    "\n",
    "In the cell below, we calculate a new thermodynamic surface as a percent difference, as described by Eq. (5)."
   ]
  },
  {
   "cell_type": "code",
   "execution_count": null,
   "metadata": {
    "deletable": false,
    "editable": false,
    "nbgrader": {
     "cell_type": "code",
     "checksum": "9ff86e20542af7c6df802085b35e346b",
     "grade": false,
     "grade_id": "cell-c62d8ec7050a1d8f",
     "locked": true,
     "schema_version": 3,
     "solution": false,
     "task": false
    }
   },
   "outputs": [],
   "source": [
    "# Calculate the a-effect using Eq. (5)\n",
    "a_effect = (Pgrid_vdw_a - Pgrid_ideal)/Pgrid_ideal * 100\n",
    "\n",
    "# Graph it as a thermodynamic surface\n",
    "ax = PL.plot_surface(Tgrid, Vgrid, a_effect, color='plum') # Make the mesh plot P(V,T)\n",
    "ax.set_xlabel(Tgrid.units)\n",
    "ax.set_ylabel(Vgrid.units)\n",
    "ax.set_zlabel(a_effect.units)\n",
    "ax.set_title(\"vdw gas with the a-effect\")"
   ]
  },
  {
   "cell_type": "markdown",
   "metadata": {
    "deletable": false,
    "editable": false,
    "nbgrader": {
     "cell_type": "markdown",
     "checksum": "f7386d6a1d46852eef71fe53d508c270",
     "grade": false,
     "grade_id": "cell-e81ec1c2f5b4a78d",
     "locked": true,
     "schema_version": 3,
     "solution": false,
     "task": false
    }
   },
   "source": [
    "### Pause for Analysis\n",
    "In the cell below, record some thoughts about this. Does the a-effect have the sign you expected based on the mathematical form of Eq. (2)? Can you relate what's going on to any molecular-level properties? "
   ]
  },
  {
   "cell_type": "markdown",
   "metadata": {
    "deletable": false,
    "nbgrader": {
     "cell_type": "markdown",
     "checksum": "9debdb444dba9c6f70afde0b36ff4805",
     "grade": true,
     "grade_id": "cell-b10cc32a7e93ffed",
     "locked": false,
     "points": 3,
     "schema_version": 3,
     "solution": true,
     "task": false
    }
   },
   "source": [
    "YOUR ANSWER HERE"
   ]
  },
  {
   "cell_type": "markdown",
   "metadata": {
    "deletable": false,
    "editable": false,
    "nbgrader": {
     "cell_type": "markdown",
     "checksum": "d2fb60d56d6ef114a533ef26ecc8e278",
     "grade": false,
     "grade_id": "cell-a3f36728e4d75aee1",
     "locked": true,
     "schema_version": 3,
     "solution": false,
     "task": false
    }
   },
   "source": [
    "### Your turn - Visualizing vdw b\n",
    "Using the same temperature-volume state space as before, make a new gridded variable, Pgrid_vdw_b (Eq. 3), for Argon gas. "
   ]
  },
  {
   "cell_type": "code",
   "execution_count": null,
   "metadata": {
    "deletable": false,
    "nbgrader": {
     "cell_type": "code",
     "checksum": "b1fcd9612c50d392f437be887f85786e",
     "grade": true,
     "grade_id": "cell-6f94d41ed66e8fe1",
     "locked": false,
     "points": 3,
     "schema_version": 3,
     "solution": true,
     "task": false
    }
   },
   "outputs": [],
   "source": [
    "# Calculate the pressure of a vdw gas with the b-effect (Eq. 3); call the resulting pressure Pgrid_vdw_b\n",
    "# Your code here \n",
    "\n",
    "\n",
    "# Graph it as a thermodynamic surface\n",
    "# Your code here \n"
   ]
  },
  {
   "cell_type": "markdown",
   "metadata": {
    "deletable": false,
    "editable": false,
    "nbgrader": {
     "cell_type": "markdown",
     "checksum": "a23c4e56046a8d0ce9b0420cbdacf079",
     "grade": false,
     "grade_id": "cell-9d097c889be3c6c71",
     "locked": true,
     "schema_version": 3,
     "solution": false,
     "task": false
    }
   },
   "source": [
    "### Your turn - Visualizing the b-effect\n",
    "Just as we saw before, it's hard to tell the difference between the thermodynamic surface you just generated and the previous ones. In the cell below, calculate a new thermodynamic surface as a percent difference, as described by Eq. (6). Then graph *that* surface in a temperature-volume state space. Add appropriate labeling, etc."
   ]
  },
  {
   "cell_type": "code",
   "execution_count": null,
   "metadata": {
    "deletable": false,
    "editable": false,
    "nbgrader": {
     "cell_type": "code",
     "checksum": "b89034c7d53d73620560c7b0d89669ed",
     "grade": false,
     "grade_id": "cell-c62d8ec7050a1d8f1",
     "locked": true,
     "schema_version": 3,
     "solution": false,
     "task": false
    }
   },
   "outputs": [],
   "source": [
    "# Calculate the b-effect using Eq. (6)\n",
    "b_effect = (Pgrid_vdw_b - Pgrid_ideal)/Pgrid_ideal * 100\n",
    "\n",
    "# Graph the b-effect as a thermodynamic surface\n",
    "ax = PL.plot_surface(Tgrid, Vgrid, b_effect, color='plum') # Make the mesh plot P(V,T)\n",
    "ax.set_xlabel(Tgrid.units)\n",
    "ax.set_ylabel(Vgrid.units)\n",
    "ax.set_zlabel(a_effect.units)\n",
    "ax.set_title(\"b-effect\")"
   ]
  },
  {
   "cell_type": "markdown",
   "metadata": {
    "deletable": false,
    "editable": false,
    "nbgrader": {
     "cell_type": "markdown",
     "checksum": "42ece8e69faba01eb3fd5d2747d3431f",
     "grade": false,
     "grade_id": "cell-e81ec1c2f5b4a78d1",
     "locked": true,
     "schema_version": 3,
     "solution": false,
     "task": false
    }
   },
   "source": [
    "### Pause for Analysis\n",
    "In the cell below, record some thoughts about this. Does the b-effect have the sign you expected based on the mathematical form of Eq. (3)? Can you relate what's going on to any molecular-level properties? "
   ]
  },
  {
   "cell_type": "markdown",
   "metadata": {
    "deletable": false,
    "nbgrader": {
     "cell_type": "markdown",
     "checksum": "8888887f097b02d41ea8c5c93d15b5c8",
     "grade": true,
     "grade_id": "cell-b10cc32a7e93ffed1",
     "locked": false,
     "points": 3,
     "schema_version": 3,
     "solution": true,
     "task": false
    }
   },
   "source": [
    "YOUR ANSWER HERE"
   ]
  },
  {
   "cell_type": "markdown",
   "metadata": {
    "deletable": false,
    "editable": false,
    "nbgrader": {
     "cell_type": "markdown",
     "checksum": "652a79cffd1bccbafc8094025b1ee0dc",
     "grade": false,
     "grade_id": "cell-366f8d98c1be70ed",
     "locked": true,
     "schema_version": 3,
     "solution": false,
     "task": false
    }
   },
   "source": [
    "### Clean-up\n",
    "We're at the end of the notebook. It's good practice to use the Kernel/Restart & Run All, just to make sure your code works from top to bottom (since that's what your instructor will do!). If there are any errors or warnings, fix them.\n",
    "\n",
    "### Validating\n",
    "This step will help ensure that you didn't miss something (although it's not a guarantee). Find the \"Validate\" button and press it. If there are any errors or warnings, fix them.\n",
    "\n",
    "### Three steps for finishing up\n",
    "Assuming all this has gone smoothly, there will be three more steps (but read this carefully before carrying them out):\n",
    "1. Close this notebook using the \"File/Close and Halt\" dropdown menu\n",
    "1. Using the Assignments tab, submit this notebook\n",
    "1. Press the Logout tab of the Home Page\n"
   ]
  }
 ],
 "metadata": {
  "kernelspec": {
   "display_name": "Python 3 (ipykernel)",
   "language": "python",
   "name": "python3"
  },
  "language_info": {
   "codemirror_mode": {
    "name": "ipython",
    "version": 3
   },
   "file_extension": ".py",
   "mimetype": "text/x-python",
   "name": "python",
   "nbconvert_exporter": "python",
   "pygments_lexer": "ipython3",
   "version": "3.10.2"
  }
 },
 "nbformat": 4,
 "nbformat_minor": 1
}
