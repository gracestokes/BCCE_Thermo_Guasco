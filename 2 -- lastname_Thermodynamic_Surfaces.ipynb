{
 "cells": [
  {
   "cell_type": "markdown",
   "metadata": {},
   "source": [
    "### <font face=\"georgia\"><p style = 'text-align: center;'> Computational Guided Inquiry for PChem (Neshyba & Guasco, 2017)</p>\n",
    "\n",
    "## <font face=\"georgia\"><p style = 'text-align: center;'> Visualizing Thermodynamic Surfaces\n",
    "\n",
    "<font face=\"georgia\">**OBJECTIVE**: Use Python graphics to visualize pressure as a state function.\n",
    "\n",
    "<font face=\"georgia\">**What to do in preparation for this activity:** \n",
    "\n",
    "1. Read the Introduction below.\n",
    "<br>\n",
    "2. For your prelab, have ready to turn a single piece of paper with the following information:  \n",
    "• Equations 1-3 labeled to indicate what each equation is.  \n",
    "• Units for pressure, temperature, and volume in the L-atm unit system.  \n",
    "• Value of the gas constant (*R*) in the L-atm unit system.  \n",
    "• Values of van der Waals parameters *a* and _b_ for any gas of your choice. Useful references are your text, a CRC handbook, or Wikipedia$^1$; if you use the latter, remember you must convert _a_ from L$^2$·bar/mol$^2$ to L$^2$·atm/mol$^2$ by multiplying by 0.987 atm/bar.  \n",
    "3. Prepare your lab notebook (the physical notebook) with a table of contents entry and a starting page for this activity. Don't forget to bring the notebook with you to class.\n",
    "\n",
    "\n",
    "## Introduction\n",
    "\n",
    "An _equation of state_ is any algebraic expression that relates\n",
    "thermodynamic variables to one another. You’re probably familiar with the\n",
    "equation of state for an ideal gas, written algebraically as $PV=nRT$.\n",
    "Here, the pressure, volume, and temperature are thermodynamic variables; n\n",
    "tells you how much of the gas there is, and R is the gas constant. It’s\n",
    "clear from this equation that once we know any two thermodynamic\n",
    "variables, we can get the third, e.g.,\n",
    "\n",
    "<p style='text-align: right;'>\n",
    "$ P(V,T) = \\dfrac{n R T}{V} $ (ideal gas) $\\qquad \\qquad \\qquad \\qquad \\qquad \\qquad \\qquad \\qquad \\qquad \\qquad \\qquad \\qquad$(1)\n",
    "</p>\n",
    "\n",
    "We haven’t changed much in writing this; it’s still the equation of state for an ideal gas. But by writing _P(V,T)_ on the left hand side, we are signaling that we’re thinking about pressure as a _state function_ (because it depends on _T_ and _V_). Variables _T_ and _V_, the independent variables in this equation, define a two-dimensional _state space_. \n",
    "\n",
    "Equation 1 can be thought of geometrically as a surface in two dimensions. Josiah Willard Gibbs called these _thermodynamic surfaces_. James Clerk Maxwell famously made three plaster models of a thermodynamic surface, and gave one as a present to Gibbs. A photo of one is shown in Fig. 1.\n",
    "\n",
    "<img src=\"http://upload.wikimedia.org/wikipedia/en/a/aa/Maxwell_thermodynamic_surface.png\"/>\n",
    "\n",
    "Figure 1. Thermodynamic surface of the energy of an idealized water-like substance constructed by James Clerk Maxwell as a gift to Josiah Willard Gibbs.$^2$ \n",
    "\n",
    "The idea of thermodynamic surfaces is quite general. The plaster model Maxwell gave to Gibbs showed the energy (_U_) as a function of the volume and entropy (_V_ and _S_) of an idealized water-like substance, which we would write shorthand as _U(V,S)_. But an important point is that _all_ substances (real or idealized) are characterized by thermodynamic surfaces. \n",
    "\n",
    "Can you visualize what the thermodynamic surface _P(V,T)_ of a gas looks like? One approach is to imagine how pressure behaves as a function of each variable separately. That is exactly what various early investigators did. Two 17th century British scientists, Boyle and Hooke, found that when the volume of a gas is changed isothermally (temperature held constant), the gas pressure goes as the inverse of the volume. A century and a half later, French chemist Gay-Lussac reported that when the temperature of a gas is changed isochorically (volume held constant), the pressure goes up in direct proportion to the temperature. These properties are also easily obtained from Eq. 1, by the way, but Gay-Lussac, Boyle, and Hooke didn’t have that advantage.\n",
    "\n",
    "If you are still struggling with visualizing _P(V,T)_ even with these insights, don’t worry: that’s the sort of thing computers are good at, and what you’ll be asking Python to do for you in this computational lab.\n",
    "\n",
    "Of course, Eq. 1 does not describe real gases exactly; under some physical conditions, it’s a pretty good approximation, but under other physical conditions, large deviations from the real behavior are seen. That’s unfortunate in one sense, because it means real gases can’t be described with the algebraic elegance of Eq. 1. On the other hand, it turns out that the way a real gas differs from ideal-gas behavior can reveal important information about the gas molecules! A formula derived by van der Waals$^1$, \n",
    "\n",
    "<p style='text-align: right;'>\n",
    "$ P(V,T) = \\dfrac{n R T}{V-nb} -\\dfrac{an^2}{V^2} $ (van der Waals gas) $\\qquad \\qquad \\qquad \\qquad \\qquad \\qquad \\qquad \\qquad $ (2)\n",
    "</p>\n",
    "\n",
    "is a kind of compromise: it is not quite as elegant (or at least simple) as the ideal gas equation of state, but it has the great advantage that it describes real gases much better, because parameters _a_ and _b_ are adjusted for each gas.\n",
    "\n",
    "If you’re interested in the error (difference) between these two ways of describing a gas, the formula is\n",
    "\n",
    "<p style='text-align: right;'>\n",
    "$ \\%Error = \\dfrac{P_{ideal}-P_{vdw}}{P_{vdw}}x100\\% $ $\\qquad \\qquad \\qquad \\qquad \\qquad \\qquad \\qquad \\qquad \\qquad \\qquad \\qquad \\qquad$ (3)\n",
    "</p>\n",
    "\n",
    "This formula assumes the van der Waals result is more accurate, which is generally accepted to be the case for most physical conditions.\n",
    "\n",
    "In this computational lab, you will use Python to generate and manipulate thermodynamic surfaces for ideal gases and for van der Waals gases.\n",
    "\n",
    "\n",
    "## References\n",
    "[1] Van der Waals constants (data page) - Wikipedia, the free encyclopedia, http://en.wikipedia.org/wiki/Van_der_Waals_constants_(data_page) (_accessed Aug 27, 2017_).  \n",
    "[2] Willard Gibbs: American Genius (1942), by Muriel Rukeyser.  "
   ]
  },
  {
   "cell_type": "markdown",
   "metadata": {},
   "source": [
    "## <font face=\"georgia\">In-class activities  \n",
    "<font face = \"georgia\">To start, you'll need to import various libraries for this activity: numpy (for numerical operations), matplotlib.pyplot (for 2-D graphics), and mpl_toolkits.mplot3d (for 3-D graphics). "
   ]
  },
  {
   "cell_type": "code",
   "execution_count": null,
   "metadata": {
    "collapsed": true
   },
   "outputs": [],
   "source": [
    "import numpy as np\n",
    "import matplotlib.pyplot as plt\n",
    "from mpl_toolkits.mplot3d import axes3d\n",
    "%matplotlib notebook"
   ]
  },
  {
   "cell_type": "markdown",
   "metadata": {},
   "source": [
    "<font face=\"georgia\">Your first goal is to get Python to calculate the pressure of one mole of an ideal gas and of a van der Waals gas of your choice at _T_=300 K and _V_=25 L. **Modify the cell below appropriately to do this.** You’ll know you’ve done these calculations right if you get pressures close to 1 atm. "
   ]
  },
  {
   "cell_type": "code",
   "execution_count": null,
   "metadata": {
    "collapsed": false
   },
   "outputs": [],
   "source": [
    "# Constants related to an ideal gas\n",
    "R = 0.082 # Liter-atm/mol-K\n",
    "V = 20 # Liters\n",
    "T = 250 # Kelvin\n",
    "n = 1 # moles\n",
    "\n",
    "# van der Waals constants\n",
    "a = 2.00\n",
    "b = 0.04\n",
    "\n",
    "# Get pressure of an ideal gas\n",
    "P = n*R*T/V\n",
    "print (\"Pressure of ideal gas = \", P, \"atm\")\n",
    "\n",
    "# Get pressure of a vdw gas\n",
    "Pvdw = n*R*T/(V-n*b)-a*n**2/V**2\n",
    "print (\"Pressure of vdw = \", Pvdw, \"atm\")\n",
    "\n",
    "# Get percent error (using Eq. 3 in the handout)\n",
    "Error = (P-Pvdw)/Pvdw*100\n",
    "print (\"%Error = \", Error)"
   ]
  },
  {
   "cell_type": "markdown",
   "metadata": {},
   "source": [
    "<font face = \"georgia\">Next, you're going to generate some Boyle isotherms, _P_(_V_) for a given _T_. You'll need to specify the range of volumes you want to look at. __Modify the code below so the volume ranges from 10 to 40 L.__"
   ]
  },
  {
   "cell_type": "code",
   "execution_count": null,
   "metadata": {
    "collapsed": false
   },
   "outputs": [],
   "source": [
    "# Generate a range of volumes\n",
    "V_array = np.linspace(5,40)\n",
    "print (\"There are\", V_array.shape, \"points in V\") # shape tells you the length of the array\n",
    "print (V_array)"
   ]
  },
  {
   "cell_type": "markdown",
   "metadata": {},
   "source": [
    "<font face = \"georgia\">Your next goal is to calculate and graph the Boyle isotherm of an ideal gas at this temperature (300K), for this range of volumes. You don't have to enter new values for the temperature or moles, since those values will carry over from the previous cell."
   ]
  },
  {
   "cell_type": "code",
   "execution_count": null,
   "metadata": {
    "collapsed": false
   },
   "outputs": [],
   "source": [
    "# Get pressure of an ideal gas\n",
    "P_array = n*R*T/V_array\n",
    "print (\"There are\", P_array.shape, \"points in P_array\")\n",
    "\n",
    "# Graph P(V)\n",
    "plt.figure()\n",
    "plt.plot(V_array,P_array) # Plot the ideal gas Boyle isotherm\n",
    "plt.xlabel('V (L)') # Label the x axis\n",
    "plt.ylabel('P (atm)') # Label the y axis"
   ]
  },
  {
   "cell_type": "markdown",
   "metadata": {},
   "source": [
    "#### <font face = \"georgia\">Pause for Analysis #1: Sketch this graph in your notebook"
   ]
  },
  {
   "cell_type": "markdown",
   "metadata": {},
   "source": [
    "<font face = \"georgia\">Now produce a Boyle isotherm of a van der Waals gas at the same temperature and range of volumes. Label your axes as before. "
   ]
  },
  {
   "cell_type": "code",
   "execution_count": null,
   "metadata": {
    "collapsed": false
   },
   "outputs": [],
   "source": [
    "# Get pressure\n",
    "\n",
    "# Graph P(V)\n"
   ]
  },
  {
   "cell_type": "markdown",
   "metadata": {},
   "source": [
    "<font face = \"georgia\">You'll notice that these two graphs are pretty similar, but they're not identical. To explore this, print the %error in the pressure (like what you did in the 1st cell, but using the range of volumes). "
   ]
  },
  {
   "cell_type": "code",
   "execution_count": null,
   "metadata": {
    "collapsed": false
   },
   "outputs": [],
   "source": [
    "# Get the %error\n",
    "\n",
    "# Print the %error\n"
   ]
  },
  {
   "cell_type": "markdown",
   "metadata": {},
   "source": [
    "#### <font face = \"georgia\">Pause for Analysis #2: Does the error get worse at high volume, or low volume? What is the physical cause of this trend? What is the mathematical cause? After discussing these ideas, write some kind of summary in your lab notebook."
   ]
  },
  {
   "cell_type": "markdown",
   "metadata": {},
   "source": [
    "<font face = \"georgia\">Next you're going to display some thermodynamic surfaces, _P_(_T_,_V_). The first thing you need to do is generate grids of volume and temperature (this defines the state space). Modify the code below so that the temperature ranges from 250 to 350 K and the volume ranges from 10 to 40 L."
   ]
  },
  {
   "cell_type": "code",
   "execution_count": null,
   "metadata": {
    "collapsed": false
   },
   "outputs": [],
   "source": [
    "V_array = np.linspace(5,40)\n",
    "T_array = np.linspace(200,300)\n",
    "V_grid, T_grid = np.meshgrid(V_array,T_array) # Make a grid covering every V & T combination \n",
    "print (\"There are\", V_grid.shape, \"points in V\")\n",
    "print (\"There are\", T_grid.shape, \"points in T\")"
   ]
  },
  {
   "cell_type": "markdown",
   "metadata": {},
   "source": [
    "<font face = \"georgia\">Now calculate and graph the thermodynamic surface _P_(_V_,_T_) for an ideal gas"
   ]
  },
  {
   "cell_type": "code",
   "execution_count": null,
   "metadata": {
    "collapsed": false
   },
   "outputs": [],
   "source": [
    "# Get pressure grid of ideal gas for every point on the grid\n",
    "P_grid = n*R*T_grid/V_grid\n",
    "print (\"There are\", P_grid.shape, \"points in P_grid\")\n",
    "print (P_grid)\n",
    "\n",
    "# Graph it\n",
    "ax = plt.figure().gca(projection='3d') # Set up a three dimensional graphics window \n",
    "ax.plot_surface(V_grid, T_grid, P_grid) # Make the mesh plot P(V,T)\n",
    "ax.set_xlabel('V (L)') # Label axes\n",
    "ax.set_ylabel('T (K)')\n",
    "ax.set_zlabel('P (atm)')"
   ]
  },
  {
   "cell_type": "markdown",
   "metadata": {},
   "source": [
    "#### <font face = \"georgia\">Pause for Analysis #3: Play around with your display using the rotation tool. From a certain angle, you should be able to identify isotherms and isochores along which the Boyle-Hooke law and Gay-Lussac’s law are clearly in evidence. Make a sketch of your thermodynamic surface from in your lab notebook, with appropriate annotation as to how these two laws appear in your plot."
   ]
  },
  {
   "cell_type": "markdown",
   "metadata": {},
   "source": [
    "<font face = \"georgia\">Next, do a similar thing (make a thermodynamic surface) for a van der Waals gas."
   ]
  },
  {
   "cell_type": "code",
   "execution_count": null,
   "metadata": {
    "collapsed": false
   },
   "outputs": [],
   "source": [
    "# Get pressure grid of van der Waals gas (Pvdw) for every point on the grid\n",
    "\n",
    "# Graph it\n"
   ]
  },
  {
   "cell_type": "markdown",
   "metadata": {},
   "source": [
    "<font face = \"georgia\">You’ll notice that the thermodynamic surfaces for an ideal gas and a vdw gas are barely distinguishable from each other. For that reason, it's useful to look at the % difference between them. Display this difference as a thermodynamic surface as a separate figure."
   ]
  },
  {
   "cell_type": "code",
   "execution_count": null,
   "metadata": {
    "collapsed": false
   },
   "outputs": [],
   "source": [
    "# Calculate the %error\n",
    "\n",
    "# Print the %error\n",
    "\n",
    "# Graph the %error\n"
   ]
  },
  {
   "cell_type": "markdown",
   "metadata": {},
   "source": [
    "#### <font face = \"georgia\">Pause for Analysis #4: Play around with the display of percent differences between van der Waals and ideal gas pressures, using the rotation tool. Are the trends in error with respect to volume the same as what you noticed before? How does the error depend on the temperature? Write a paragraph describing these trends, and any insights you derive from them, in your lab notebook."
   ]
  },
  {
   "cell_type": "markdown",
   "metadata": {},
   "source": [
    "## <font face=\"georgia\">Post-class activities  \n",
    "<font face = \"georgia\">In your lab notebook:\n",
    "\n",
    "1. In your own words, define the terms _state function_, _equation of state_, _thermodynamic variable_, _thermodynamic surface_, _state space_, _isochore_, and _isotherm_.<br>\n",
    "2. In your own words describe what the python functions _shape_ and _meshgrid_ do."
   ]
  },
  {
   "cell_type": "markdown",
   "metadata": {},
   "source": [
    "## <font face=\"georgia\">Due by the following class meeting \n",
    "\n",
    "<font face = \"georgia\">\n",
    "1. Your lab notebook, which contains:<br>\n",
    "• Any sketches of graphs you were instructed to include.<br>\n",
    "• Your responses to the \"Pause for Analysis\" items.<br>\n",
    "• The post-class activities. \n",
    "2. Your Python notebook (the .ipynb file) placed in your Dropbox folder. I will look at your file for evidence of mastery of the computational methods embedded in the exercise: whether the notebook is complete and your results accurate."
   ]
  }
 ],
 "metadata": {
  "kernelspec": {
   "display_name": "Python 2",
   "language": "python",
   "name": "python2"
  },
  "language_info": {
   "codemirror_mode": {
    "name": "ipython",
    "version": 2
   },
   "file_extension": ".py",
   "mimetype": "text/x-python",
   "name": "python",
   "nbconvert_exporter": "python",
   "pygments_lexer": "ipython2",
   "version": "2.7.11"
  }
 },
 "nbformat": 4,
 "nbformat_minor": 0
}
